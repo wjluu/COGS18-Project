{
 "cells": [
  {
   "cell_type": "code",
   "execution_count": 6,
   "metadata": {},
   "outputs": [],
   "source": [
    "import os\n",
    "import string\n",
    "import random\n",
    "import nltk"
   ]
  },
  {
   "cell_type": "code",
   "execution_count": 7,
   "metadata": {},
   "outputs": [
    {
     "ename": "ModuleNotFoundError",
     "evalue": "No module named 'my_module.functions.py'; 'my_module.functions' is not a package",
     "output_type": "error",
     "traceback": [
      "\u001b[0;31m---------------------------------------------------------------------------\u001b[0m",
      "\u001b[0;31mModuleNotFoundError\u001b[0m                       Traceback (most recent call last)",
      "\u001b[0;32m<ipython-input-7-bd4fe55a121d>\u001b[0m in \u001b[0;36m<module>\u001b[0;34m\u001b[0m\n\u001b[0;32m----> 1\u001b[0;31m \u001b[0;32mfrom\u001b[0m \u001b[0mmy_module\u001b[0m\u001b[0;34m.\u001b[0m\u001b[0mfunctions\u001b[0m\u001b[0;34m.\u001b[0m\u001b[0mpy\u001b[0m \u001b[0;32mimport\u001b[0m \u001b[0;34m*\u001b[0m\u001b[0;34m\u001b[0m\u001b[0;34m\u001b[0m\u001b[0m\n\u001b[0m",
      "\u001b[0;31mModuleNotFoundError\u001b[0m: No module named 'my_module.functions.py'; 'my_module.functions' is not a package"
     ]
    }
   ],
   "source": [
    "from my_module.functions.py import *\n"
   ]
  },
  {
   "cell_type": "markdown",
   "metadata": {},
   "source": [
    "The goal of my project was to implement 3 functions to extend the chatbot from A3.\n",
    "This includes a new_selector function that teaches the user about 4 python terms (lists,tuples,dictionaries,indexing). It takes an input by the user who is asking for the definition of a python term that is already stored in a list. If the input matches with a specific string in the python term list, it returns a specific string from the definition list which contains the definition for the python term the user asked for\n",
    "The identity function takes an input from the user that correlates to a name in a list and returns that name along with a random string from another list to concatenate to the name.\n",
    "The quiz trigger function is for the quizzer function. This just prints out the quiz question\n",
    "The quizzer function is designed to return a quiz score ranging from 0 to 1. If the input matches what the function is asking for in the if statement, this correlates to the correct answer of the quiz and returns a score of what the user got on the quiz.\n"
   ]
  },
  {
   "cell_type": "code",
   "execution_count": null,
   "metadata": {},
   "outputs": [],
   "source": [
    "#This cell of lists are from A3 however the last 4 lists are from this project"
   ]
  },
  {
   "cell_type": "code",
   "execution_count": null,
   "metadata": {},
   "outputs": [],
   "source": [
    "GREETINGS_IN = ['hello', 'hi', 'hey', 'hola', 'welcome', 'bonjour', 'greetings']\n",
    "GREETINGS_OUT = [\"Hello, it's nice to talk to you!\", 'Nice to meet you!',  \"Hey - Let's chat!\"]\n",
    "\n",
    "COMP_IN = ['python', 'code', 'computer', 'algorithm', ]\n",
    "COMP_OUT = [\"Python is what I'm made of.\", \\\n",
    "            \"Did you know I'm made of code!?\", \\\n",
    "            \"Computers are so magical\", \\\n",
    "            \"Do you think I'll pass the Turing test?\"]\n",
    "\n",
    "PEOPLE_IN = ['turing', 'hopper', 'neumann', 'lovelace']\n",
    "PEOPLE_OUT = ['was awesome!', 'did so many important things!', 'is someone you should look up :).']\n",
    "PEOPLE_NAMES = {'turing': 'Alan', 'hopper': 'Grace', 'neumann': 'John von', 'lovelace': 'Ada'}\n",
    "\n",
    "JOKES_IN = ['funny', 'hilarious', 'ha', 'haha', 'hahaha', 'lol']\n",
    "JOKES_OUT = ['ha', 'haha', 'lol'] \n",
    "\n",
    "NONO_IN = ['matlab', 'java', 'C++']\n",
    "NONO_OUT = [\"I'm sorry, I don't want to talk about\"]\n",
    "\n",
    "\n",
    "UNKNOWN = ['Good.', 'Okay', 'Huh?', 'Yeah!', 'Thanks!']\n",
    "\n",
    "QUESTION = \"I'm too shy to answer questions. What do you want to talk about?\"\n",
    "PYTHON_TERM_OUT = [\"what is a list?, A list is a collection of mutable items bounded by square brackets.\" ,\n",
    "                   \"what is a tuple?, A tuple is a collection of immutable items bounded by brackets.\" , \n",
    "                   \"what is a dictionary?, A dictionary is a collection of items indexed by their keys bounded by weird brackets.\" ,\n",
    "                   \"what is indexing?, Indexing is taking an element from a list.\"]\n",
    "PYTHON_TERM_INPUTS = [\"list\" , \"tuple\" , \"dictionary\" , \"indexing\",]\n",
    "                 \n",
    "RANDOM_LIST = [\" is an awesome coder\", \" is a real python expert\"]\n",
    "NAMES = [\"William\", \"Cyrus\"]"
   ]
  },
  {
   "cell_type": "code",
   "execution_count": 8,
   "metadata": {},
   "outputs": [],
   "source": [
    "#starting from here are the original chatbot functions from Assignment 3"
   ]
  },
  {
   "cell_type": "code",
   "execution_count": 9,
   "metadata": {},
   "outputs": [],
   "source": [
    "def remove_punctuation(input_string):\n",
    "    \n",
    "    out_string = \"\"\n",
    "    \n",
    "    for character in input_string:\n",
    "        if character not in string.punctuation:\n",
    "            out_string = out_string + character\n",
    "        else:\n",
    "            continue\n",
    "    return out_string"
   ]
  },
  {
   "cell_type": "code",
   "execution_count": 10,
   "metadata": {},
   "outputs": [],
   "source": [
    "def is_question(input_string):\n",
    "    \n",
    "    for x in input_string:\n",
    "        if '?' in input_string:\n",
    "            output = True\n",
    "        else:\n",
    "            output = False\n",
    "        return output"
   ]
  },
  {
   "cell_type": "code",
   "execution_count": 31,
   "metadata": {},
   "outputs": [],
   "source": [
    "def prepare_text(input_string):\n",
    "    \n",
    "    temp_string = input_string.lower()\n",
    "    temp_string = remove_punctuation(temp_string)\n",
    "    out_list = temp_string.split()\n",
    "    return out_list"
   ]
  },
  {
   "cell_type": "code",
   "execution_count": 32,
   "metadata": {},
   "outputs": [],
   "source": [
    "def respond_echo(input_string, number_of_echos, spacer):\n",
    "\n",
    "    if input_string is not None:\n",
    "        echo_output = (input_string + spacer) * number_of_echos\n",
    "    else: \n",
    "        echo_output = None\n",
    "    return echo_output"
   ]
  },
  {
   "cell_type": "code",
   "execution_count": 33,
   "metadata": {},
   "outputs": [],
   "source": [
    "def selector(input_list,check_list,return_list):\n",
    "    output = None\n",
    "    for j in input_list:\n",
    "        if j in check_list:\n",
    "            output = random.choice(return_list)\n",
    "            break\n",
    "        else:\n",
    "            continue \n",
    "    return output"
   ]
  },
  {
   "cell_type": "code",
   "execution_count": 34,
   "metadata": {},
   "outputs": [],
   "source": [
    "def string_concatenator(string1,string2,separator):\n",
    "    combined_string = string1 + separator + string2\n",
    "    return combined_string"
   ]
  },
  {
   "cell_type": "code",
   "execution_count": 35,
   "metadata": {},
   "outputs": [],
   "source": [
    "def list_to_string(input_list,separator):\n",
    "    output = input_list[0]\n",
    "    for p in input_list[1:]:\n",
    "        output = string_concatenator(output,p,separator)\n",
    "    return output"
   ]
  },
  {
   "cell_type": "code",
   "execution_count": 36,
   "metadata": {},
   "outputs": [],
   "source": [
    "def end_chat(input_list):\n",
    "    if 'quit' in input_list:\n",
    "        return True\n",
    "    else:\n",
    "        return False"
   ]
  },
  {
   "cell_type": "code",
   "execution_count": 37,
   "metadata": {},
   "outputs": [],
   "source": [
    "def is_in_list(list_one, list_two):\n",
    "    \"\"\"Check if any element of list_one is in list_two.\"\"\"\n",
    "    \n",
    "    for element in list_one:\n",
    "        if element in list_two:\n",
    "            return True\n",
    "    return False\n",
    "\n",
    "def find_in_list(list_one, list_two):\n",
    "    \"\"\"Find and return an element from list_one that is in list_two, or None otherwise.\"\"\"\n",
    "    \n",
    "    for element in list_one:\n",
    "        if element in list_two:\n",
    "            return element\n",
    "    return None"
   ]
  },
  {
   "cell_type": "code",
   "execution_count": 38,
   "metadata": {},
   "outputs": [],
   "source": [
    "#This marks the end of the copied functions from assignment 3"
   ]
  },
  {
   "cell_type": "code",
   "execution_count": 39,
   "metadata": {},
   "outputs": [],
   "source": [
    "def new_selector(input_string, check_list, return_list):\n",
    "    \n",
    "    \"\"\"\n",
    "    When the user asks for a term or piece of vocabulary in python, the function returns the exact definition of it.\n",
    "    \n",
    "    Returns\n",
    "    -------\n",
    "    Output: string\n",
    "        string containing the definition of a python term\n",
    "    \"\"\"\n",
    "    #initalize the output to None\n",
    "    output = None\n",
    "    \n",
    "    #the conditional tests what is in the input string and returns the correct definition from the PYTHON_TERMS_DEFINITION list\n",
    "    for x in input_string:\n",
    "        if x in check_list:\n",
    "            if x == check_list[0]:\n",
    "                output = return_list[0]\n",
    "            elif x == check_list[1]:\n",
    "                output = return_list[1]\n",
    "            elif x == check_list[2]:\n",
    "                output = return_list[2]\n",
    "            elif x == check_list[3]:\n",
    "                output = return_list[3]\n",
    "            break\n",
    "        else:\n",
    "            continue\n",
    "    return output"
   ]
  },
  {
   "cell_type": "code",
   "execution_count": 40,
   "metadata": {},
   "outputs": [
    {
     "data": {
      "text/plain": [
       "'what is a list?, A list is a collection of mutable items bounded by square brackets.'"
      ]
     },
     "execution_count": 40,
     "metadata": {},
     "output_type": "execute_result"
    }
   ],
   "source": [
    "new_selector([\"list\"],PYTHON_TERM_INPUTS, PYTHON_TERM_OUT)"
   ]
  },
  {
   "cell_type": "code",
   "execution_count": 41,
   "metadata": {},
   "outputs": [],
   "source": [
    "def test_new_selector():\n",
    "    \n",
    "    assert isinstance(new_selector([\"list\"],PYTHON_TERM_INPUTS, PYTHON_TERM_OUT), str) \n",
    "\n",
    "    assert(new_selector([\"list\"],PYTHON_TERM_INPUTS, PYTHON_TERM_OUT)) == \"what is a list?, A list is a collection of mutable items bounded by square brackets.\"\n",
    "\n",
    "    assert(new_selector([\"tuple\"], PYTHON_TERM_INPUTS, PYTHON_TERM_OUT)) == \"what is a tuple?, A tuple is a collection of immutable items bounded by brackets.\""
   ]
  },
  {
   "cell_type": "code",
   "execution_count": 42,
   "metadata": {},
   "outputs": [],
   "source": [
    "test_new_selector()"
   ]
  },
  {
   "cell_type": "code",
   "execution_count": 43,
   "metadata": {},
   "outputs": [],
   "source": [
    "def identity(input_string, names, random_list):\n",
    "    \"\"\"\n",
    "    When the user inputs a name, it will return that name and a random sentence at the end about them as a student.\n",
    "    \n",
    "    Returns\n",
    "    -------\n",
    "    Output : string\n",
    "        string containing the name concatenated with the random sentence finisher\n",
    "    \"\"\"\n",
    "    \n",
    "    #initalize output to None\n",
    "    output = None\n",
    "    \n",
    "    #loop through the names inputted by user\n",
    "    for x in input_string:\n",
    "        \n",
    "        #ensure the input is in the list of names\n",
    "        if x in names:\n",
    "            \n",
    "            #if the name is a certain name in the list, it will return that name along with a random sentence finisher.\n",
    "            if x ==names[0]:\n",
    "                output = names[0] + random.choice(random_list)\n",
    "            elif x == names[1]:\n",
    "                output = names[0] + random.choice(random_list)\n",
    "            break\n",
    "        else:\n",
    "            continue\n",
    "    #the break and continue ensure the code is continous and does not stop randomly if a name is not in the list    \n",
    "    \n",
    "    #returns the name as well as the random sentence concatenated with it.\n",
    "    return output "
   ]
  },
  {
   "cell_type": "code",
   "execution_count": 44,
   "metadata": {},
   "outputs": [],
   "source": [
    "def quiz_trigger(input_string):\n",
    "    \"\"\"\n",
    "    Returns a question about python if the user asks to take a quiz\n",
    "    \n",
    "    Returns\n",
    "    -------\n",
    "    Output: string\n",
    "        string represents the python question that will be asked to the user\n",
    "    \"\"\"\n",
    "\n",
    "    #initalize the output to None so it can store an integer later\n",
    "    output = None\n",
    "    \n",
    "    #if the input by the user is a certain string, it triggers and returns a python question.\n",
    "    if input_string == \"quiz me\":\n",
    "        \n",
    "        #this is the question that will be returned the user\n",
    "        output = \"what language do we learn in COGS18\"\n",
    "        \n",
    "    return output"
   ]
  },
  {
   "cell_type": "code",
   "execution_count": 45,
   "metadata": {},
   "outputs": [],
   "source": [
    "def quizzer(input_string):\n",
    "    \n",
    "    \"\"\"\n",
    "    When user answers a question, function returns a score depending on if the answer is the same as what it programmed\n",
    "    \n",
    "    Returns\n",
    "    -------\n",
    "    Output: int\n",
    "        int represents how many questions were right\n",
    "    \"\"\"\n",
    "    \n",
    "    #initalize couter to 0 to represent the score before the quiz is graded\n",
    "    counter = 0\n",
    "    \n",
    "    #tests if the input by user matches the answer\n",
    "    if input_string == \"python\":\n",
    "        \n",
    "        #adds 1 to the score if correct\n",
    "        counter += 1\n",
    "        \n",
    "    elif input_string == \"java\":\n",
    "        \n",
    "        #gain no score if the input by user is not the answer\n",
    "        counter += 0\n",
    "    \n",
    "    #returns the score of the user\n",
    "    return counter"
   ]
  },
  {
   "cell_type": "code",
   "execution_count": 46,
   "metadata": {},
   "outputs": [],
   "source": [
    "def test_quizzer():\n",
    "    \n",
    "    \"\"\"tests for the quizzer function\"\"\"\n",
    "    \n",
    "    #test if the answer is an integer\n",
    "    assert isinstance(quizzer(\"python\"), int)\n",
    "    \n",
    "    #test if the answer is 1\n",
    "    assert(quizzer(\"python\")) == 1\n",
    "    \n",
    "    #test if the answer is 0\n",
    "    assert(quizzer(\"java\")) == 0"
   ]
  },
  {
   "cell_type": "code",
   "execution_count": 47,
   "metadata": {},
   "outputs": [],
   "source": [
    "test_quizzer()"
   ]
  },
  {
   "cell_type": "code",
   "execution_count": 48,
   "metadata": {},
   "outputs": [],
   "source": [
    "#have_a_chat() is copied from A3"
   ]
  },
  {
   "cell_type": "code",
   "execution_count": 49,
   "metadata": {},
   "outputs": [],
   "source": [
    "def have_a_chat():\n",
    "    \"\"\"Main function to run our chatbot.\"\"\"\n",
    "    \n",
    "    chat = True\n",
    "    while chat:\n",
    "\n",
    "        # Get a message from the user\n",
    "        msg = input('INPUT :\\t')\n",
    "        out_msg = None\n",
    "\n",
    "        # Check if the input is a question\n",
    "        question = is_question(msg)\n",
    "\n",
    "        # Prepare the input message\n",
    "        msg = prepare_text(msg)\n",
    "\n",
    "        # Check for an end msg \n",
    "        if end_chat(msg):\n",
    "            out_msg = 'Bye!'\n",
    "            chat = False \n",
    "\n",
    "        # Check for a selection of topics that we have defined to respond to\n",
    "        #   Here, we will check for a series of topics that we have designed to answer to\n",
    "        if not out_msg:\n",
    "\n",
    "            # Initialize to collect a list of possible outputs\n",
    "            outs = []\n",
    "            # Check if the input looks like a greeting, add a greeting output if so\n",
    "            outs.append(selector(msg, GREETINGS_IN, GREETINGS_OUT))\n",
    "            # Check if the input looks like a computer thing, add a computer output if so\n",
    "            outs.append(selector(msg, COMP_IN, COMP_OUT))\n",
    "            outs.append(selector(msg, NAMES, RANDOM_LIST))\n",
    "            # Check if the input mentions a person that is specified, add a person output if so\n",
    "            if is_in_list(msg, PEOPLE_IN):\n",
    "                name = find_in_list(msg, PEOPLE_IN)\n",
    "                outs.append(list_to_string([PEOPLE_NAMES[name], name.capitalize(),\n",
    "                                            selector(msg, PEOPLE_IN, PEOPLE_OUT)], ' '))\n",
    "\n",
    "            # Check if the input looks like a joke, add a repeat joke output if so\n",
    "            outs.append(respond_echo(selector(msg, JOKES_IN, JOKES_OUT), 3, ''))\n",
    "        \n",
    "            # Check if the input has some words we don't want to talk about, say that, if so\n",
    "            if is_in_list(msg, NONO_IN):\n",
    "                outs.append(list_to_string([selector(msg, NONO_IN, NONO_OUT), find_in_list(msg, NONO_IN)], ' '))\n",
    "\n",
    "            # IF YOU WANTED TO ADD MORE TOPICS TO RESPOND TO, YOU COULD ADD THEM IN HERE\n",
    "            outs.append(new_selector(msg, PYTHON_TERM_INPUTS, PYTHON_TERM_OUT))\n",
    "            outs.append(identity(msg, NAMES, RANDOM_LIST))\n",
    "            outs.append(quiz_trigger(msg))\n",
    "            outs.append(quizzer(msg))\n",
    "            # We could have selected multiple outputs from the topic search above (if multiple return possible outputs)\n",
    "            #   We also might have appended None in some cases, meaning we don't have a reply\n",
    "            #   To deal with this, we are going to randomly select an output from the set of outputs that are not None\n",
    "            options = list(filter(None, outs))\n",
    "            if options:\n",
    "                out_msg = random.choice(options)\n",
    "\n",
    "        # If we don't have an output yet, but the input was a question, return msg related to it being a question\n",
    "        if not out_msg and question:\n",
    "            out_msg = QUESTION\n",
    "\n",
    "        # Catch-all to say something if msg not caught & processed so far\n",
    "        if not out_msg:\n",
    "            out_msg = random.choice(UNKNOWN)\n",
    "\n",
    "        print('OUTPUT:', out_msg)"
   ]
  },
  {
   "cell_type": "code",
   "execution_count": 163,
   "metadata": {},
   "outputs": [
    {
     "name": "stdout",
     "output_type": "stream",
     "text": [
      "INPUT :\tquit\n",
      "OUTPUT: Bye!\n"
     ]
    }
   ],
   "source": [
    "have_a_chat()"
   ]
  },
  {
   "cell_type": "code",
   "execution_count": null,
   "metadata": {},
   "outputs": [],
   "source": []
  }
 ],
 "metadata": {
  "kernelspec": {
   "display_name": "Python 3",
   "language": "python",
   "name": "python3"
  },
  "language_info": {
   "codemirror_mode": {
    "name": "ipython",
    "version": 3
   },
   "file_extension": ".py",
   "mimetype": "text/x-python",
   "name": "python",
   "nbconvert_exporter": "python",
   "pygments_lexer": "ipython3",
   "version": "3.6.7"
  }
 },
 "nbformat": 4,
 "nbformat_minor": 2
}
